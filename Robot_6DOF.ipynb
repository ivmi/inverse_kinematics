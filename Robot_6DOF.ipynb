{
 "cells": [
  {
   "cell_type": "code",
   "execution_count": 132,
   "metadata": {
    "collapsed": false
   },
   "outputs": [],
   "source": [
    "# Postavke\n",
    "%matplotlib inline\n",
    "import robot_6dof_gui\n",
    "import numpy as np"
   ]
  },
  {
   "cell_type": "code",
   "execution_count": 143,
   "metadata": {
    "collapsed": false
   },
   "outputs": [
    {
     "data": {
      "text/plain": [
       "<module 'robot_6dof_gui' from 'C:\\\\py_projs\\\\inverse_kinematics\\\\robot_6dof_gui.py'>"
      ]
     },
     "execution_count": 143,
     "metadata": {},
     "output_type": "execute_result"
    }
   ],
   "source": [
    "import importlib\n",
    "importlib.reload(robot_6dof_gui)"
   ]
  },
  {
   "cell_type": "code",
   "execution_count": 144,
   "metadata": {
    "collapsed": true
   },
   "outputs": [],
   "source": [
    "link_lengths=[200,200,100]"
   ]
  },
  {
   "cell_type": "code",
   "execution_count": 145,
   "metadata": {
    "collapsed": false
   },
   "outputs": [],
   "source": [
    "gui = robot_6dof_gui.RobotGUI(links=link_lengths)\n",
    "ik_gui = robot_6dof_gui.IKGUI(gui)"
   ]
  },
  {
   "cell_type": "code",
   "execution_count": 136,
   "metadata": {
    "collapsed": false
   },
   "outputs": [],
   "source": [
    "gui"
   ]
  },
  {
   "cell_type": "code",
   "execution_count": 146,
   "metadata": {
    "collapsed": false
   },
   "outputs": [
    {
     "name": "stderr",
     "output_type": "stream",
     "text": [
      "C:\\py_projs\\inverse_kinematics\\robot_6dof_gui.py:191: RuntimeWarning: invalid value encountered in arccos\n",
      "  a[1] = np.arccos ( ( np.square( l[0] ) + np.square ( l12 ) - np.square ( l[1])) / (2 * l[0] * l12 )) + a12\n"
     ]
    }
   ],
   "source": [
    "from ipywidgets import widgets\n",
    "widgets.HBox(children = [gui, ik_gui])"
   ]
  },
  {
   "cell_type": "code",
   "execution_count": 138,
   "metadata": {
    "collapsed": false
   },
   "outputs": [],
   "source": [
    "fs0."
   ]
  },
  {
   "cell_type": "code",
   "execution_count": 46,
   "metadata": {
    "collapsed": true
   },
   "outputs": [],
   "source": [
    "gui.angles = [0,0,0,0,0.2,1]"
   ]
  },
  {
   "cell_type": "code",
   "execution_count": 47,
   "metadata": {
    "collapsed": false
   },
   "outputs": [],
   "source": [
    "def on_tick(t, dt, period, ticker):\n",
    "    a=gui.angles[1]\n",
    "    a = a+0.07\n",
    "    gui.angles = [0, a, 0, 0, 0 ,0]\n",
    "    if a>3:\n",
    "        ticker.stop()\n",
    "\n",
    "ticker = robot_6dof_gui.Ticker(50, on_tick)\n",
    "ticker.start()"
   ]
  },
  {
   "cell_type": "code",
   "execution_count": null,
   "metadata": {
    "collapsed": false
   },
   "outputs": [],
   "source": [
    "ga = -np.pi/2\n",
    "ang = inv_kin([100,50,100], ga, link_lengths)\n",
    "print(ang)\n",
    "gui.angles = ang +[0,0]"
   ]
  },
  {
   "cell_type": "code",
   "execution_count": 10,
   "metadata": {
    "collapsed": false
   },
   "outputs": [],
   "source": [
    "gui.angles = [0,0,0,0,0,0]"
   ]
  },
  {
   "cell_type": "code",
   "execution_count": null,
   "metadata": {
    "collapsed": false
   },
   "outputs": [],
   "source": [
    "def inv_kin(p, ga, l=[100,100,100]):\n",
    "    w = np.array([0]*4,dtype=float) #horizontal coordinate\n",
    "    z = np.array([0]*4,dtype=float) #vertical coordinate\n",
    "\n",
    "    gripper_angle=ga\n",
    "\n",
    "    w[3] = np.sqrt ( np.square ( p[2] ) + np.square ( p[0] )) \n",
    "    z[3] = p[1]\n",
    "\n",
    "    w[2] = w[3] - l[2] * np.cos(gripper_angle)\n",
    "    z[2] = z[3] - l[2] * np.sin(gripper_angle)\n",
    "\n",
    "    l12 = np.sqrt ( np.square ( w[2] ) + np.square ( z[2] ))\n",
    "    a12 = np.arctan2(z[2], w[2])\n",
    "\n",
    "    a = [0]*4\n",
    "    a[0] = np.arctan2(p[0],p[2])\n",
    "    a[1] = np.arccos ( ( np.square( l[0] ) + np.square ( l12 ) - np.square ( l[1])) / (2 * l[0] * l12 )) + a12\n",
    "    w[1] = l[0] * np.cos(a[1])\n",
    "    z[1] = l[0] * np.sin(a[1])\n",
    "    a[2] = np.arctan2 ( ( z[2] - z[1] ) , ( w[2] - w[1] ) ) - a[1]\n",
    "    a[3] = gripper_angle - a[1] - a[2]\n",
    "  \n",
    "    a[1]=a[1]-np.pi/2\n",
    "    return a"
   ]
  },
  {
   "cell_type": "code",
   "execution_count": 37,
   "metadata": {
    "collapsed": false
   },
   "outputs": [],
   "source": [
    "?"
   ]
  },
  {
   "cell_type": "code",
   "execution_count": null,
   "metadata": {
    "collapsed": true
   },
   "outputs": [],
   "source": []
  }
 ],
 "metadata": {
  "kernelspec": {
   "display_name": "Python 3",
   "language": "python",
   "name": "python3"
  },
  "language_info": {
   "codemirror_mode": {
    "name": "ipython",
    "version": 3
   },
   "file_extension": ".py",
   "mimetype": "text/x-python",
   "name": "python",
   "nbconvert_exporter": "python",
   "pygments_lexer": "ipython3",
   "version": "3.5.1"
  }
 },
 "nbformat": 4,
 "nbformat_minor": 0
}

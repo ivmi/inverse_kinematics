{
 "cells": [
  {
   "cell_type": "code",
   "execution_count": 192,
   "metadata": {
    "collapsed": false
   },
   "outputs": [],
   "source": [
    "# Postavke\n",
    "%matplotlib inline\n",
    "import robot_6dof_gui\n",
    "import numpy as np"
   ]
  },
  {
   "cell_type": "code",
   "execution_count": 193,
   "metadata": {
    "collapsed": false
   },
   "outputs": [
    {
     "data": {
      "text/plain": [
       "<module 'robot_6dof_gui' from 'C:\\\\Users\\\\ivan.miskovic\\\\Desktop\\\\jupyter_notebooks\\\\inverse_kinematics\\\\robot_6dof_gui.py'>"
      ]
     },
     "execution_count": 193,
     "metadata": {},
     "output_type": "execute_result"
    }
   ],
   "source": [
    "import importlib\n",
    "importlib.reload(robot_6dof_gui)"
   ]
  },
  {
   "cell_type": "code",
   "execution_count": 194,
   "metadata": {
    "collapsed": true
   },
   "outputs": [],
   "source": [
    "link_lengths=[200,200,50]"
   ]
  },
  {
   "cell_type": "code",
   "execution_count": 195,
   "metadata": {
    "collapsed": false
   },
   "outputs": [],
   "source": [
    "gui=robot_6dof_gui.RobotGUI(links=link_lengths)"
   ]
  },
  {
   "cell_type": "code",
   "execution_count": 196,
   "metadata": {
    "collapsed": false
   },
   "outputs": [],
   "source": [
    "gui"
   ]
  },
  {
   "cell_type": "code",
   "execution_count": 240,
   "metadata": {
    "collapsed": false
   },
   "outputs": [
    {
     "name": "stdout",
     "output_type": "stream",
     "text": [
      "[0.78539816339744828, -0.044559865041517099, -2.3727991045985153, -0.72423368394976073]\n"
     ]
    }
   ],
   "source": [
    "ga = -np.pi/2\n",
    "ang = inv_kin([100,0,100], ga, link_lengths)\n",
    "print(ang)\n",
    "gui.angles = ang +[0,0]"
   ]
  },
  {
   "cell_type": "code",
   "execution_count": 231,
   "metadata": {
    "collapsed": false
   },
   "outputs": [],
   "source": [
    "gui.angles = [0,0,0,0,0,0]"
   ]
  },
  {
   "cell_type": "code",
   "execution_count": 232,
   "metadata": {
    "collapsed": false
   },
   "outputs": [],
   "source": [
    "def inv_kin(p, ga, l=[100,100,100]):\n",
    "    w = np.array([0]*4,dtype=float) #horizontal coordinate\n",
    "    z = np.array([0]*4,dtype=float) #vertical coordinate\n",
    "\n",
    "    gripper_angle=ga\n",
    "\n",
    "    w[3] = np.sqrt ( np.square ( p[2] ) + np.square ( p[0] )) \n",
    "    z[3] = p[1]\n",
    "\n",
    "    w[2] = w[3] - l[2] * np.cos(gripper_angle)\n",
    "    z[2] = z[3] - l[2] * np.sin(gripper_angle)\n",
    "\n",
    "    l12 = np.sqrt ( np.square ( w[2] ) + np.square ( z[2] ))\n",
    "    a12 = np.arctan2(z[2], w[2])\n",
    "\n",
    "    a = [0]*4\n",
    "    a[0] = np.arctan2(p[0],p[2])\n",
    "    a[1] = np.arccos ( ( np.square( l[0] ) + np.square ( l12 ) - np.square ( l[1])) / (2 * l[0] * l12 )) + a12\n",
    "    w[1] = l[0] * np.cos(a[1])\n",
    "    z[1] = l[0] * np.sin(a[1])\n",
    "   # p[n](x) = x[n]*cos(a[0])\n",
    "   # p[n](y) = y[n]*sin(a[0])\n",
    "   # p[n](z) = z[n]\n",
    "    a[2] = np.arctan2 ( ( z[2] - z[1] ) , ( w[2] - w[1] ) ) - a[1]\n",
    "    a[3] = gripper_angle - a[1] - a[2]\n",
    "  \n",
    "    a[1]=a[1]-np.pi/2\n",
    "    return a\n",
    "\n",
    "\n"
   ]
  },
  {
   "cell_type": "code",
   "execution_count": 124,
   "metadata": {
    "collapsed": false
   },
   "outputs": [
    {
     "data": {
      "text/plain": [
       "[0.0, 2.4980915447965089, -1.5707963267948966, -0.9272952180016123]"
      ]
     },
     "execution_count": 124,
     "metadata": {},
     "output_type": "execute_result"
    }
   ],
   "source": [
    "inv_kin([0,200,0])"
   ]
  },
  {
   "cell_type": "code",
   "execution_count": 229,
   "metadata": {
    "collapsed": false
   },
   "outputs": [
    {
     "name": "stdout",
     "output_type": "stream",
     "text": [
      "0.0\n",
      "100.0\n",
      "-3.06161699787e-15\n",
      "150.0\n"
     ]
    }
   ],
   "source": [
    "p=[0, 100, 0]\n",
    "l =[200,200,50]\n",
    "\n",
    "w = np.array([0]*4,dtype=float) #horizontal coordinate\n",
    "z = np.array([0]*4,dtype=float) #vertical coordinate\n",
    "\n",
    "gripper_angle=-np.pi/2\n",
    "\n",
    "w[3] = np.sqrt ( np.square ( p[2] ) + np.square ( p[0] )) \n",
    "z[3] = p[1]\n",
    "print(w[3])\n",
    "print(z[3])\n",
    "w[2] = w[3] - l[2] * np.cos(gripper_angle)\n",
    "z[2] = z[3] - l[2] * np.sin(gripper_angle)\n",
    "print(w[2])\n",
    "print(z[2])\n",
    "\n",
    "\n",
    "l12 = np.sqrt ( np.square ( w[2] ) + np.square ( z[2] ))\n",
    "a12 = np.arctan2(z[2], w[2])\n",
    "\n",
    "a = [0]*4\n",
    "a[0] = np.arctan2(p[0],p[2])\n",
    "a[1] = np.arccos ( ( np.square( l[0] ) + np.square ( l12 ) - np.square ( l[1])) / (2 * l[0] * l12 )) + a12\n",
    "w[1] = l[0] * np.cos(a[1])\n",
    "z[1] = l[0] * np.sin(a[1])\n",
    "# p[n](x) = x[n]*cos(a[0])\n",
    "# p[n](y) = y[n]*sin(a[0])\n",
    "# p[n](z) = z[n]\n",
    "a[2] = np.arctan2 ( ( z[2] - z[1] ) , ( w[2] - w[1] ) ) - a[1]\n",
    "a[3] = gripper_angle - a[1] - a[2]"
   ]
  },
  {
   "cell_type": "code",
   "execution_count": null,
   "metadata": {
    "collapsed": true
   },
   "outputs": [],
   "source": []
  }
 ],
 "metadata": {
  "kernelspec": {
   "display_name": "Python 3",
   "language": "python",
   "name": "python3"
  },
  "language_info": {
   "codemirror_mode": {
    "name": "ipython",
    "version": 3
   },
   "file_extension": ".py",
   "mimetype": "text/x-python",
   "name": "python",
   "nbconvert_exporter": "python",
   "pygments_lexer": "ipython3",
   "version": "3.4.2"
  }
 },
 "nbformat": 4,
 "nbformat_minor": 0
}
